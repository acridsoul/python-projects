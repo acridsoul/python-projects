{
 "cells": [
  {
   "cell_type": "code",
   "execution_count": 1,
   "metadata": {},
   "outputs": [
    {
     "name": "stdout",
     "output_type": "stream",
     "text": [
      "Hello, Axe Leld\n"
     ]
    }
   ],
   "source": [
    "# Ask user for their name\n",
    "# Then remove whitespaces and Capitalize users first and last names\n",
    "name = input(\"What's Your Name: \").strip().title()\n",
    "\n",
    "# Using f strings\n",
    "print(f\"Hello, {name}\" )"
   ]
  },
  {
   "cell_type": "code",
   "execution_count": 2,
   "metadata": {},
   "outputs": [
    {
     "name": "stdout",
     "output_type": "stream",
     "text": [
      "Hello, Axe Lele\n"
     ]
    }
   ],
   "source": [
    "# Ask user for their name\n",
    "# Then remove whitespaces and Capitalize users first and last names\n",
    "name = input(\"What's Your Name: \").strip().title()\n",
    "# Say Hello to user\n",
    "# end parameter places the print statements on one line\n",
    "print(\"Hello, \", end=\"\")\n",
    "print(name)"
   ]
  }
 ],
 "metadata": {
  "kernelspec": {
   "display_name": "Python 3",
   "language": "python",
   "name": "python3"
  },
  "language_info": {
   "codemirror_mode": {
    "name": "ipython",
    "version": 3
   },
   "file_extension": ".py",
   "mimetype": "text/x-python",
   "name": "python",
   "nbconvert_exporter": "python",
   "pygments_lexer": "ipython3",
   "version": "3.11.7"
  }
 },
 "nbformat": 4,
 "nbformat_minor": 2
}
