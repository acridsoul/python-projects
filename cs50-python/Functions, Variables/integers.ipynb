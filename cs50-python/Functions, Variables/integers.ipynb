{
 "cells": [
  {
   "cell_type": "code",
   "execution_count": null,
   "metadata": {},
   "outputs": [],
   "source": [
    "# Integers\n",
    "x = int(input(\"X value: \"))\n",
    "y = int(input(\"Y value: \"))\n",
    "print(x+y)"
   ]
  },
  {
   "cell_type": "code",
   "execution_count": 2,
   "metadata": {},
   "outputs": [
    {
     "name": "stdout",
     "output_type": "stream",
     "text": [
      "X squared is: 25\n"
     ]
    }
   ],
   "source": [
    "# Function that asks user for a value\n",
    "def main():\n",
    "    x = int(input(\"X value: \"))\n",
    "    print(\"X squared is:\", square(x))\n",
    "\n",
    "# Function that returns the power of the value\n",
    "def square(n):\n",
    "  return pow (n ,2)\n",
    "\n",
    "main()"
   ]
  }
 ],
 "metadata": {
  "kernelspec": {
   "display_name": "Python 3",
   "language": "python",
   "name": "python3"
  },
  "language_info": {
   "codemirror_mode": {
    "name": "ipython",
    "version": 3
   },
   "file_extension": ".py",
   "mimetype": "text/x-python",
   "name": "python",
   "nbconvert_exporter": "python",
   "pygments_lexer": "ipython3",
   "version": "3.11.7"
  }
 },
 "nbformat": 4,
 "nbformat_minor": 2
}
